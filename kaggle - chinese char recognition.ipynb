{
 "cells": [
  {
   "cell_type": "markdown",
   "metadata": {},
   "source": [
    "Chinese character recognition competition on Kaggle --> https://www.kaggle.com/c/chinese-char-recognition-smmo19/leaderboard"
   ]
  },
  {
   "cell_type": "code",
   "execution_count": null,
   "metadata": {},
   "outputs": [],
   "source": [
    "! mkdir ~/.kaggle/ && echo '{\"username\":\"...\",\"key\":\"...\"}' > ~/.kaggle/kaggle.json"
   ]
  },
  {
   "cell_type": "code",
   "execution_count": null,
   "metadata": {
    "colab": {
     "base_uri": "https://localhost:8080/",
     "height": 374
    },
    "colab_type": "code",
    "executionInfo": {
     "elapsed": 38486,
     "status": "ok",
     "timestamp": 1577104988535,
     "user": {
      "displayName": "Шагане Мирзоян",
      "photoUrl": "https://lh3.googleusercontent.com/a-/AAuE7mAzrRWgODnFSAv7rkNEPRO7kexTk3xH5TMTj_YZ=s64",
      "userId": "14810192452580619157"
     },
     "user_tz": -180
    },
    "id": "Ug_0C1aivQsN",
    "outputId": "b6e77129-1439-4fbf-a8f5-05ca0859c3af"
   },
   "outputs": [],
   "source": [
    "import kaggle\n",
    "kaggle.api.competition_download_files('chinese-char-recognition-smmo19') \n",
    "! kaggle competitions download -c chinese-char-recognition-smmo19"
   ]
  },
  {
   "cell_type": "code",
   "execution_count": null,
   "metadata": {
    "colab": {
     "base_uri": "https://localhost:8080/",
     "height": 51
    },
    "colab_type": "code",
    "executionInfo": {
     "elapsed": 40544,
     "status": "ok",
     "timestamp": 1577104998354,
     "user": {
      "displayName": "Шагане Мирзоян",
      "photoUrl": "https://lh3.googleusercontent.com/a-/AAuE7mAzrRWgODnFSAv7rkNEPRO7kexTk3xH5TMTj_YZ=s64",
      "userId": "14810192452580619157"
     },
     "user_tz": -180
    },
    "id": "NZlThoD8x9j_",
    "outputId": "a7873198-d114-49f3-ded5-d41930c964d4"
   },
   "outputs": [],
   "source": [
    "! unzip test.npy.zip"
   ]
  },
  {
   "cell_type": "code",
   "execution_count": null,
   "metadata": {
    "colab": {
     "base_uri": "https://localhost:8080/",
     "height": 51
    },
    "colab_type": "code",
    "executionInfo": {
     "elapsed": 46377,
     "status": "ok",
     "timestamp": 1577105004598,
     "user": {
      "displayName": "Шагане Мирзоян",
      "photoUrl": "https://lh3.googleusercontent.com/a-/AAuE7mAzrRWgODnFSAv7rkNEPRO7kexTk3xH5TMTj_YZ=s64",
      "userId": "14810192452580619157"
     },
     "user_tz": -180
    },
    "id": "RnT-PHEHx1cE",
    "outputId": "2f65ad03-efa7-40c1-cd10-069c9bbf5cb6"
   },
   "outputs": [],
   "source": [
    "! unzip train-1.npy.zip"
   ]
  },
  {
   "cell_type": "code",
   "execution_count": null,
   "metadata": {
    "colab": {
     "base_uri": "https://localhost:8080/",
     "height": 51
    },
    "colab_type": "code",
    "executionInfo": {
     "elapsed": 63363,
     "status": "ok",
     "timestamp": 1577105021802,
     "user": {
      "displayName": "Шагане Мирзоян",
      "photoUrl": "https://lh3.googleusercontent.com/a-/AAuE7mAzrRWgODnFSAv7rkNEPRO7kexTk3xH5TMTj_YZ=s64",
      "userId": "14810192452580619157"
     },
     "user_tz": -180
    },
    "id": "2dfd_yUSx3G2",
    "outputId": "ccce1a0b-70f6-42fc-a1c3-1736f6bc555a"
   },
   "outputs": [],
   "source": [
    "! unzip train-2.npy.zip"
   ]
  },
  {
   "cell_type": "code",
   "execution_count": null,
   "metadata": {
    "colab": {
     "base_uri": "https://localhost:8080/",
     "height": 51
    },
    "colab_type": "code",
    "executionInfo": {
     "elapsed": 77497,
     "status": "ok",
     "timestamp": 1577105036444,
     "user": {
      "displayName": "Шагане Мирзоян",
      "photoUrl": "https://lh3.googleusercontent.com/a-/AAuE7mAzrRWgODnFSAv7rkNEPRO7kexTk3xH5TMTj_YZ=s64",
      "userId": "14810192452580619157"
     },
     "user_tz": -180
    },
    "id": "pmP_GVGax4aK",
    "outputId": "efb1f16f-7cac-48e6-d62e-9967757fab64"
   },
   "outputs": [],
   "source": [
    "! unzip train-3.npy.zip"
   ]
  },
  {
   "cell_type": "code",
   "execution_count": null,
   "metadata": {
    "colab": {
     "base_uri": "https://localhost:8080/",
     "height": 51
    },
    "colab_type": "code",
    "executionInfo": {
     "elapsed": 101943,
     "status": "ok",
     "timestamp": 1577105061500,
     "user": {
      "displayName": "Шагане Мирзоян",
      "photoUrl": "https://lh3.googleusercontent.com/a-/AAuE7mAzrRWgODnFSAv7rkNEPRO7kexTk3xH5TMTj_YZ=s64",
      "userId": "14810192452580619157"
     },
     "user_tz": -180
    },
    "id": "wp8kOL5Tx7NX",
    "outputId": "2d77c739-e50d-454c-8d0a-9b1ab9c85109"
   },
   "outputs": [],
   "source": [
    "! unzip train-4.npy.zip"
   ]
  },
  {
   "cell_type": "code",
   "execution_count": null,
   "metadata": {
    "colab": {
     "base_uri": "https://localhost:8080/",
     "height": 63
    },
    "colab_type": "code",
    "executionInfo": {
     "elapsed": 2356,
     "status": "ok",
     "timestamp": 1577125752223,
     "user": {
      "displayName": "Шагане Мирзоян",
      "photoUrl": "https://lh3.googleusercontent.com/a-/AAuE7mAzrRWgODnFSAv7rkNEPRO7kexTk3xH5TMTj_YZ=s64",
      "userId": "14810192452580619157"
     },
     "user_tz": -180
    },
    "id": "VB9utVMmxDzM",
    "outputId": "c334fadf-24e0-4968-dbc0-e9c1146b725d"
   },
   "outputs": [],
   "source": [
    "import numpy as np\n",
    "import tensorflow as tf\n",
    "import pandas as pd"
   ]
  },
  {
   "cell_type": "code",
   "execution_count": null,
   "metadata": {
    "colab": {},
    "colab_type": "code",
    "id": "Yzb2GnwP1dSB"
   },
   "outputs": [],
   "source": [
    "data = np.load(\"train-1.npy\", allow_pickle=True)\n",
    "\n",
    "for i in range(1, 5):\n",
    "  data = np.concatenate([data, np.load(f'train-{i}.npy', allow_pickle=True)])\n",
    "\n",
    "data_test = np.load(\"test.npy\", allow_pickle=True)\n",
    "np.random.shuffle(data) "
   ]
  },
  {
   "cell_type": "code",
   "execution_count": null,
   "metadata": {
    "colab": {},
    "colab_type": "code",
    "id": "E2LX0hqiAftw"
   },
   "outputs": [],
   "source": [
    "batch_size = 256\n",
    "val_size = 0.2\n",
    "INIT_LR = 5e-4\n",
    "EPOCHS = 20"
   ]
  },
  {
   "cell_type": "code",
   "execution_count": null,
   "metadata": {
    "colab": {
     "base_uri": "https://localhost:8080/",
     "height": 34
    },
    "colab_type": "code",
    "executionInfo": {
     "elapsed": 9649,
     "status": "ok",
     "timestamp": 1577105140061,
     "user": {
      "displayName": "Шагане Мирзоян",
      "photoUrl": "https://lh3.googleusercontent.com/a-/AAuE7mAzrRWgODnFSAv7rkNEPRO7kexTk3xH5TMTj_YZ=s64",
      "userId": "14810192452580619157"
     },
     "user_tz": -180
    },
    "id": "dOOfVhxW9cC5",
    "outputId": "122f7d55-2ab7-432b-b5cc-6030cca9c370"
   },
   "outputs": [],
   "source": [
    "st_per_ep = int((1-val_size)*data.shape[0]/(batch_size))\n",
    "st_per_ep"
   ]
  },
  {
   "cell_type": "code",
   "execution_count": null,
   "metadata": {
    "colab": {
     "base_uri": "https://localhost:8080/",
     "height": 34
    },
    "colab_type": "code",
    "executionInfo": {
     "elapsed": 9195,
     "status": "ok",
     "timestamp": 1577105140062,
     "user": {
      "displayName": "Шагане Мирзоян",
      "photoUrl": "https://lh3.googleusercontent.com/a-/AAuE7mAzrRWgODnFSAv7rkNEPRO7kexTk3xH5TMTj_YZ=s64",
      "userId": "14810192452580619157"
     },
     "user_tz": -180
    },
    "id": "QELa9kWY_nA8",
    "outputId": "c37cb19d-7a18-4fa4-fc5a-39292f7649bf"
   },
   "outputs": [],
   "source": [
    "val_st = int(val_size*data.shape[0]/(batch_size))\n",
    "val_st"
   ]
  },
  {
   "cell_type": "code",
   "execution_count": null,
   "metadata": {
    "colab": {},
    "colab_type": "code",
    "id": "0zgZUVaN043j"
   },
   "outputs": [],
   "source": [
    "char_to_id = {char:id for id, char in enumerate(np.unique([char for _, char in data]))}\n",
    "id_to_char = {id:char for id, char in enumerate(np.unique([char for _, char in data]))}"
   ]
  },
  {
   "cell_type": "code",
   "execution_count": null,
   "metadata": {
    "colab": {},
    "colab_type": "code",
    "id": "9Un0k48x1zWv"
   },
   "outputs": [],
   "source": [
    "def train_gen():\n",
    "  for img, label in data[int((val_size * len(data))):]:\n",
    "    img = img[:, :, np.newaxis]\n",
    "    label = char_to_id[label]\n",
    "    yield img, label\n",
    "\n",
    "def val_gen():\n",
    "  for img, label in data[:int((val_size * len(data)))]:\n",
    "    img = img[:, :, np.newaxis]\n",
    "    label = char_to_id[label]\n",
    "    yield img, label\n",
    "\n",
    "def test_gen():\n",
    "  for img in data_test:\n",
    "    img = img[:, :, np.newaxis]\n",
    "    yield img"
   ]
  },
  {
   "cell_type": "code",
   "execution_count": null,
   "metadata": {
    "colab": {},
    "colab_type": "code",
    "id": "DPpIMX722y1x"
   },
   "outputs": [],
   "source": [
    "dataset_train = tf.data.Dataset.from_generator(\n",
    "    train_gen,\n",
    "    output_types=(tf.uint8, tf.int32),\n",
    "    output_shapes=((None, None, 1), ())\n",
    ")\n",
    "\n",
    "dataset_val = tf.data.Dataset.from_generator(\n",
    "    val_gen,\n",
    "    output_types=(tf.uint8, tf.int32),\n",
    "    output_shapes=((None, None, 1), ())\n",
    ")\n",
    "\n",
    "dataset_test = tf.data.Dataset.from_generator(\n",
    "    test_gen,\n",
    "    output_types=tf.uint8,\n",
    "    output_shapes=(None, None, 1)\n",
    ")"
   ]
  },
  {
   "cell_type": "code",
   "execution_count": null,
   "metadata": {
    "colab": {},
    "colab_type": "code",
    "id": "D3Gn8Sb13vDo"
   },
   "outputs": [],
   "source": [
    "# def augmentation(img):\n",
    "#   rand = np.random.rand()\n",
    "#   if rand <= 0.25:\n",
    "#     tf.image.random_brightness(img, 0.3)\n",
    "#     return img\n",
    "#   if rand <= 0.5: \n",
    "#     tf.image.adjust_gamma(img, 0.3)\n",
    "#     return img\n",
    "#   if rand <= 0.75:\n",
    "#     tf.image.apply_affine_transform(img, shear=35)\n",
    "#     return img\n",
    "#   if rand <= 1:\n",
    "#     tf.image.apply_brightness_shift(img, 0.5)\n",
    "#     return img\n",
    "\n",
    "def preprocess_train(img, label):\n",
    "  img = tf.image.resize(img, (80, 80))\n",
    "  img = tf.cast(img, tf.float32)\n",
    "  img = (img - 127.5) / 127.5\n",
    "  if np.random.rand() < 0.25:\n",
    "    img = augmentation(img)\n",
    "  label = tf.one_hot(label, 1000)\n",
    "  return img, label\n",
    "\n",
    "def preprocess_test(img):\n",
    "  img = tf.image.resize(img, (80, 80))\n",
    "  img = tf.cast(img, tf.float32)\n",
    "  img = (img - 127.5) / 127.5\n",
    "  return img\n",
    "\n"
   ]
  },
  {
   "cell_type": "code",
   "execution_count": null,
   "metadata": {
    "colab": {},
    "colab_type": "code",
    "id": "AtXQ4xMO4UQo"
   },
   "outputs": [],
   "source": [
    "dataset_train = dataset_train.map(preprocess_train, num_parallel_calls=-1).shuffle(1024).repeat(EPOCHS).prefetch(-1).batch(batch_size)"
   ]
  },
  {
   "cell_type": "code",
   "execution_count": null,
   "metadata": {
    "colab": {},
    "colab_type": "code",
    "id": "amN3KWxL4-AH"
   },
   "outputs": [],
   "source": [
    "dataset_val = dataset_val.map(preprocess_train, num_parallel_calls=-1).shuffle(1024).repeat(EPOCHS).prefetch(-1).batch(batch_size)\n",
    "dataset_test = dataset_test.map(preprocess_test, num_parallel_calls=-1).prefetch(-1).batch(batch_size)"
   ]
  },
  {
   "cell_type": "code",
   "execution_count": null,
   "metadata": {
    "colab": {},
    "colab_type": "code",
    "id": "Orr-sBYhHvaF"
   },
   "outputs": [],
   "source": [
    "initializer = tf.keras.initializers.lecun_normal()"
   ]
  },
  {
   "cell_type": "code",
   "execution_count": null,
   "metadata": {
    "colab": {
     "base_uri": "https://localhost:8080/",
     "height": 34
    },
    "colab_type": "code",
    "executionInfo": {
     "elapsed": 636,
     "status": "ok",
     "timestamp": 1577125780397,
     "user": {
      "displayName": "Шагане Мирзоян",
      "photoUrl": "https://lh3.googleusercontent.com/a-/AAuE7mAzrRWgODnFSAv7rkNEPRO7kexTk3xH5TMTj_YZ=s64",
      "userId": "14810192452580619157"
     },
     "user_tz": -180
    },
    "id": "3eSGOoNafvNs",
    "outputId": "c0e905be-8b9e-4061-e461-3e9679dceb9c"
   },
   "outputs": [],
   "source": [
    "# early_stopping = tf.keras.callbacks.EarlyStopping(monitor='val_acc',\n",
    "#                            patience=2,\n",
    "#                            verbose=1,\n",
    "#                            min_delta=1e-3)\n",
    "def lr_scheduler(epoch):\n",
    "    return INIT_LR * 0.8 ** epoch \n",
    "import keras\n",
    "from keras.models import save_model, load_model\n",
    "\n",
    "class ModelSaveCallback(keras.callbacks.Callback):\n",
    "\n",
    "    def __init__(self, file_name):\n",
    "        super(ModelSaveCallback, self).__init__()\n",
    "        self.file_name = file_name\n",
    "\n",
    "    def on_epoch_end(self, epoch, logs=None):\n",
    "        self.model.save(self.file_name.format(epoch), overwrite=True)\n",
    "        print(\"model was saved to file \", self.file_name.format(epoch))\n",
    "\n",
    "def load_from_file(model_filename, last_epoch):\n",
    "  return(load_model(model_filename.format(last_epoch-1))) ##кажется, было слишком легко, надеюсь, все правильно сделала"
   ]
  },
  {
   "cell_type": "code",
   "execution_count": null,
   "metadata": {
    "colab": {},
    "colab_type": "code",
    "id": "Cs51Itmb0l14"
   },
   "outputs": [],
   "source": [
    "# ready_arch_model = tf.keras.applications.resnet_v2.ResNet101V2(input_shape=(80, 80, 1),\n",
    "#                                                include_top=True,\n",
    "#                                                weights=None) - не пробил бейзлайн на 10\n",
    "\n",
    "ready_arch_model = tf.keras.applications.resnet_v2.ResNet101V2(input_shape=(80, 80, 1),\n",
    "                                               include_top=True,\n",
    "                                               weights=None)- тоже не пробил, но последний сабмит был с ним\n",
    "\n",
    "# ready_arch_model = tf.keras.applications.xception.Xception(input_shape=(80, 80, 1),\n",
    "#                                                include_top=True,\n",
    "#                                                weights=None) - вот этот пробовала запускать, \n",
    "#но не доучился из-за ошибки runtime, последняя запущенная сессия этого ноутбука как раз с ним\n"
   ]
  },
  {
   "cell_type": "code",
   "execution_count": null,
   "metadata": {
    "colab": {
     "base_uri": "https://localhost:8080/",
     "height": 204
    },
    "colab_type": "code",
    "executionInfo": {
     "elapsed": 2604,
     "status": "ok",
     "timestamp": 1577117313004,
     "user": {
      "displayName": "Шагане Мирзоян",
      "photoUrl": "https://lh3.googleusercontent.com/a-/AAuE7mAzrRWgODnFSAv7rkNEPRO7kexTk3xH5TMTj_YZ=s64",
      "userId": "14810192452580619157"
     },
     "user_tz": -180
    },
    "id": "N1S4iOq2jKCp",
    "outputId": "a88eb7b8-a9e2-405d-b6fd-10b16ca45561"
   },
   "outputs": [],
   "source": [
    "ready_arch_model.trainable = True\n",
    "\n",
    "model = tf.keras.Sequential([\n",
    "  ready_arch_model,\n",
    "])\n",
    "\n",
    "model.compile(optimizer='adam',\n",
    "              loss='categorical_crossentropy',\n",
    "              metrics=['accuracy'])\n",
    "print(model.summary())\n"
   ]
  },
  {
   "cell_type": "code",
   "execution_count": null,
   "metadata": {
    "colab": {
     "base_uri": "https://localhost:8080/",
     "height": 374
    },
    "colab_type": "code",
    "id": "6Hx_Z9Cl0xzn",
    "outputId": "4f0bf0e6-6434-462c-9786-4a66a1c16e10"
   },
   "outputs": [],
   "source": [
    "model.fit(dataset_train, validation_data = dataset_val, epochs=EPOCHS, callbacks=[tf.keras.callbacks.LearningRateScheduler(lr_scheduler), ModelSaveCallback('weights_{0:02d}.hdf5')], steps_per_epoch=st_per_ep, validation_steps=val_st)"
   ]
  },
  {
   "cell_type": "code",
   "execution_count": null,
   "metadata": {
    "colab": {},
    "colab_type": "code",
    "id": "ml1a4BtOSjwu"
   },
   "outputs": [],
   "source": [
    "res = pd.read_csv('random_labels.csv')"
   ]
  },
  {
   "cell_type": "code",
   "execution_count": null,
   "metadata": {
    "colab": {},
    "colab_type": "code",
    "id": "en9k3KtTSheA"
   },
   "outputs": [],
   "source": [
    "full_prediction = model.predict(dataset_test)"
   ]
  },
  {
   "cell_type": "code",
   "execution_count": null,
   "metadata": {
    "colab": {},
    "colab_type": "code",
    "id": "Z0qidnUQTIaQ"
   },
   "outputs": [],
   "source": [
    "prediction = full_prediction.argmax(1)"
   ]
  },
  {
   "cell_type": "code",
   "execution_count": null,
   "metadata": {
    "colab": {},
    "colab_type": "code",
    "id": "1iX_apl4SJYI"
   },
   "outputs": [],
   "source": [
    "res.shape, prediction.shape"
   ]
  },
  {
   "cell_type": "code",
   "execution_count": null,
   "metadata": {
    "colab": {},
    "colab_type": "code",
    "id": "g9oGgQM9ThO6"
   },
   "outputs": [],
   "source": [
    "answ = []\n",
    "for i in prediction:\n",
    "  answ.append(id_to_char[i])"
   ]
  },
  {
   "cell_type": "code",
   "execution_count": null,
   "metadata": {
    "colab": {},
    "colab_type": "code",
    "id": "IAaZsz4YTx_R"
   },
   "outputs": [],
   "source": [
    "res['Category'] = answ\n",
    "res"
   ]
  },
  {
   "cell_type": "code",
   "execution_count": null,
   "metadata": {
    "colab": {},
    "colab_type": "code",
    "id": "mlhXun-rBh_b"
   },
   "outputs": [],
   "source": [
    "res.to_csv(\"result.csv\", index=False)"
   ]
  },
  {
   "cell_type": "code",
   "execution_count": null,
   "metadata": {
    "colab": {},
    "colab_type": "code",
    "id": "U2ZWqFcQ-8zO"
   },
   "outputs": [],
   "source": [
    "! kaggle competitions submit -c chinese-char-recognition-smmo19 -m '' -f result.csv"
   ]
  }
 ],
 "metadata": {
  "accelerator": "GPU",
  "colab": {
   "collapsed_sections": [],
   "machine_shape": "hm",
   "name": "Mirzoian_pics1.ipynb",
   "provenance": []
  },
  "kernelspec": {
   "display_name": "Python 3",
   "language": "python",
   "name": "python3"
  },
  "language_info": {
   "codemirror_mode": {
    "name": "ipython",
    "version": 3
   },
   "file_extension": ".py",
   "mimetype": "text/x-python",
   "name": "python",
   "nbconvert_exporter": "python",
   "pygments_lexer": "ipython3",
   "version": "3.7.3"
  }
 },
 "nbformat": 4,
 "nbformat_minor": 2
}
